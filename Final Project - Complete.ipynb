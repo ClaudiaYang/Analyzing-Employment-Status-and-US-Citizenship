{
 "cells": [
  {
   "cell_type": "markdown",
   "id": "4aeddbec",
   "metadata": {},
   "source": [
    "### Group Member: Claudia Yang, Coco Wu, Ethan Sun,  Joyce Zhang"
   ]
  },
  {
   "cell_type": "markdown",
   "id": "6c188e37",
   "metadata": {},
   "source": [
    "# Research Question\n",
    "- Are US citizens more likely to be employed than those non-US citizens?"
   ]
  },
  {
   "cell_type": "markdown",
   "id": "66232192",
   "metadata": {},
   "source": [
    "## Introduction"
   ]
  },
  {
   "cell_type": "markdown",
   "id": "8b25a2d0",
   "metadata": {},
   "source": [
    "Motivation: \n",
    "\n",
    "In exploring the intersection of citizenship status and employment in the United States, this research aims to tap into a crucial aspect of economic dynamics in the U.S.. The significance of citizenship status in shaping employment opportunities often influences access to legal work protections, job availability, and potentially impacting the broader economic landscape through labor market efficiency and policy formulation. Recent analyses conducted by the Center for Immigration Studies, reveals that while U.S. born employment has not rebounded to pre-COVID levels (2019), employment among immigrants has seen substantial growth. Specifically from 2019-2023, there has been an increase of 2.9 million immigrant workers compared to a decrease of 183,000 U.S. born workers. This divergence raises the question about the structure inequities and obstacles that different groups may face within the labor market."
   ]
  },
  {
   "cell_type": "markdown",
   "id": "aa7a45f5",
   "metadata": {},
   "source": [
    "Importance:\n",
    "\n",
    "This is significant as it analyzes the impact of citizenship on employment opportunities–a fundamental aspect that shapes the economic landscape and individual lives of residents in the United States. By examining the employment rates of U.S. citizens as non-citizens, our study will look into the structural barriers that segment the labor market and the potential underutilization of a significant portion of the workforce. The findings could offer critical insights for policy makers and potentially drive reform in labor and immigration policies to harness a more inclusive and efficient employment system. "
   ]
  },
  {
   "cell_type": "markdown",
   "id": "2a0808e9",
   "metadata": {},
   "source": [
    "## Literature Review"
   ]
  },
  {
   "cell_type": "markdown",
   "id": "a6bd9cf8",
   "metadata": {},
   "source": [
    "- Where Are You From? Career Experiences of Non-US PhD Holders in the United States\n",
    "\n",
    "This article by Dongbin Kim na dSehee Kim offers insight into the professional landscape faced by international scholars in the United States. They emphasize the relationship between citizenship status, country of origin, and career outcomes, THe study utilizes the 2013 National Science Foundation Survey of Doctorate recipients to analyze the career trajectories and dissatisfaction levels of non-US PhD holders compared to their US counterparts. The study reveals that non-US citizens often report lower career satisfaction and are less likely to hold supervisory positions. The disparity in holding supervisors roles diminishes when adjusted for demographic backgrounds, fields of study and years since graduation, displaying that factors beyond citizenship status influence career advancement. This directly ties into our research question as it showcases how citizenship and natural origin can impact not only employment status but also the quality and satisfaction of employment. It shows the importance of considering a range of factors when evaluating the employment disparities and suggests that citizenship status may not fully capture the complexity of employment experiences of the U.S. labor market. "
   ]
  },
  {
   "cell_type": "markdown",
   "id": "5a0646c3",
   "metadata": {},
   "source": [
    "- Are college graduate immigrants on work visas cheaper than natives?\n",
    "\n",
    "Bagheri confronts the economic implications of hiring foreign professionals under H1-B and other work visas in the United States, exploring the wage disparities between immigrants and their U.S.-born counterparts. Analyzing data from the National Survey of College Graduates across several cycles from 2010 to 2017, the study finds that contrary to the common belief that immigrant workers are less expensive, those on temporary work visas actually earned a wage premium over U.S.-born citizens. Their wages increased from 15.6% in 2010 to 31.9% in 2017. This premium was pronounced from immigrants in English-speaking countries, those educated outside the U.S. and in fields such as computer science and engineering. HOwever, no significant wage differences were observed among those in certain other professions or among holders of doctoral and professional degrees. These findings display how employment rates and conditions of U.S. versus non-U.S. citizens by highlighting how immigration status intersects with wage dynamics. Thus pointing to the complexity of the labor market where citizenship and visa status can significantly influence economic outcomes. This study is able to challenge simplistic narratives around the economic roles of immigrant workers and suggests the need for nuanced policy approaches to skilled worker immigration. "
   ]
  },
  {
   "cell_type": "markdown",
   "id": "13ad67a2",
   "metadata": {},
   "source": [
    "- Right for the Job: Over-Qualified or Under-Skilled?\n",
    "\n",
    "According to Glenda Quintini, in the OECD, approximately one in four workers is overqualified for their jobs, and about one in five is underqualified, with immigrants and new labor market entrants notably over-represented among the overqualified. This mismatch is not only a reflection of educational attainment but is also influenced by the actual skills possessed and required. Only 40% of overqualified workers in European countries feel equipped for more demanding tasks and a mere 12% of the under qualified feel they need more training. THis suggests a complex interplay between perceived and actual skill adequacy, influenced by various factors including job market dynamics and individual career paths. This studys\\’s focus on the adaptability of job requirements and the recognition of non-formal and informal learning showcases the flexibility within the labor market to accommodate diverse skill sets–particularly for immigrants. Quinitini’s findings display how structural labor market conditions and recognition of qualifications impact employment outcomes. Thus arguing for a nuanced understanding of how qualifications, skills, and job requirements interact and shape labor market experiences–pointing towards the need for policies that enhance skill recognition and reduce qualification mismatches–especially among immigrants and non U.S. citizens. "
   ]
  },
  {
   "cell_type": "markdown",
   "id": "947c2ddd",
   "metadata": {},
   "source": [
    "- Putting Americans First: A Statistical Case for Encouraging Rather than Impeding and Devaluing US Citizenship\n",
    "\n",
    "This article examines how naturalization significantly enhances the integration, success, and contribution of immigrants in the UNited States. It displays how naturalized citizens often achieve higher education levels, income, and homeownership rates that their native-born counterparts. The research highlights the critical role of naturalization in enabling immigrants to access better socioeconomic opportunities, thus reinforcing the argument that the path to citizenship is integral to strengthening natural cohesion and the overall prosperity of society. Additionally, the article discusses the adverse impacts of policies that restrict access to naturalization and permanent residency, particularly under the Trump administrations’ “America first” ideology. These policies not only complicate the naturalization process but also risk creating a disenfranchised subclass–especially among U.S.-born children of undocumented parents. By contrasting the Trump administration’s stance with the tangible benefits of naturalization and family reunification–the article challenged prevailing narratives that undermine family-based immigration. The analysis ties into our research by demonstrating the profound implications of citizenship status on employment and integration, offering insights into how legal frameworks and policies influence the economic trajectories of immigrants nad by extension the nation;s workforce dynamics. "
   ]
  },
  {
   "cell_type": "markdown",
   "id": "accb4e02",
   "metadata": {},
   "source": [
    "- The Contribution of International Graduate Students to US Innovation\n",
    "\n",
    "The study conducted by Chelleraj and et. al. quantifies the pivotal role of international graduate students in the U.S. innovation ecosystem. BY using a model of idea generation, their research concludes that a mere 10% increase in the enrollment of foreign graduate students catalyzes a substantial uplift in patent outputs, including a 4.5% increase in patent applications and enhancements of 6.8% and 5% in university and non-university patent grants, respectively, These findings not only showcase the contribution of international talent to the U.S. intellectual and technological advancement but also caution against the potential stifling of innovation through restrictive immigration policies. This research aligns with our research question by highlighting how immigration status intersects with capabilities in innovation and hence reinforcing the broader implications of immigration policies on national competitiveness. "
   ]
  },
  {
   "cell_type": "markdown",
   "id": "36c17ca2",
   "metadata": {},
   "source": [
    "- Immigrants in the US Labor Market\n",
    "\n",
    "This article explores the dual impact of immigrants in the U.S. economy and shows the substantial benefits such as increased productivity, innovation, and cultural enrichment. These include the predominance of immigrants in low-wage jobs and their disproportionate use of public services relative to their tax contributions–which complicates their fiscal impact. Additionally, the economic benefits derived from immigration are unevenly distributed with native low-skilled workers facing potential wage suppression and poorer households benefiting less from cheaper immigrant-produced goods. THis analysis provides another layer of context to our research question by emphasizing how citizenship status influences employment opportunities and economic outcomes in a complex dynamic with broader socio economic and policy relationships. "
   ]
  },
  {
   "cell_type": "markdown",
   "id": "77e8103e",
   "metadata": {},
   "source": [
    "- Migration and US Economic Competitiveness\n",
    "\n",
    "Martin highlights widespread dissatisfaction with the current immigration framework, emphasizing the systemic issues such as the significant backlog for family reunification and the inadequate intake of highly skilled immigrants and temporary workers in sectors critical for innovation and competitiveness in a knowledge driven economy. He argues that the difficulty in quantifying the exact benefits and costs of immigration contributes the persistence of these policy challenges. This examination is critical in understanding the foundational effects of immigration on economic competitiveness, making it a significant contribution to our research. Martin’s analysis suggests that revising immigration policies to favor skilled workers could enhance the U.S.’s economic stance globally. "
   ]
  },
  {
   "cell_type": "markdown",
   "id": "7e7da605",
   "metadata": {},
   "source": [
    "- The globalization of postsecondary education: The role of international students in the US higher education system\n",
    "\n",
    "\n",
    "This research conducted by Bound and et. al. provides analysis for the substantial economic and educational impact of international students in the U.S. over the past four decades. Their study documents the significant increase in foreign student enrollment, which not only enhances the U.S. economy through substantial tuition revenue but also contributes to the global supply of skilled workers–particularly in STEM fields. The authors emphasize the vital role of U.S. visa policies in facilitating this influx, which allows international students to transition smoothly into the U.S. labor market and thus supporting sectors that are critical for innovation. This du=ynamic informs our research question through education and subsequent employment opportunities for international students and how they integrate into the U.S> labor market. "
   ]
  },
  {
   "cell_type": "markdown",
   "id": "a9dd706e",
   "metadata": {},
   "source": [
    "## Data"
   ]
  },
  {
   "cell_type": "code",
   "execution_count": 124,
   "id": "b9f547dc-992d-4100-8532-10e700331ed8",
   "metadata": {},
   "outputs": [],
   "source": [
    "# Import necessary packages\n",
    "import numpy as np\n",
    "import pandas as pd\n",
    "import seaborn as sns"
   ]
  },
  {
   "cell_type": "code",
   "execution_count": 126,
   "id": "2a7fee68-e94d-435a-a56c-6f40ea8200f0",
   "metadata": {},
   "outputs": [],
   "source": [
    "# Import dataset\n",
    "data = pd.read_csv('/Users/crystalzhao/ECON220Lab/usa_00004.csv')"
   ]
  },
  {
   "cell_type": "markdown",
   "id": "5dda2a2a",
   "metadata": {},
   "source": [
    "- Data Source: The data source used in this research is drawn from the Integrated Public Use Microdata Series (IPUMS) USA database. It provides comprehensive demographic and employment data, allowing the exploration of the relationship between U.S. citizenship status and employment likelihood. Specifically, this dataset includes variables regarding individuals' citizenship status and their employment status. The year we selected is 2020."
   ]
  },
  {
   "cell_type": "markdown",
   "id": "3491d395",
   "metadata": {},
   "source": [
    "- Variable Description"
   ]
  },
  {
   "cell_type": "markdown",
   "id": "46373294",
   "metadata": {},
   "source": [
    "- CITIZEN\n",
    "\n",
    "The citizenship variable was cleaned and recoded into two main categories for analysis:\n",
    "\n",
    "**U.S. Citizens**: Includes individuals born abroad to American parents or naturalized citizens.\n",
    "\n",
    "**Non-Citizens**: Individuals not holding U.S. citizenship.\n",
    "\n",
    "This recoding allows analysis of employment patterns among citizens versus non-citizens."
   ]
  },
  {
   "cell_type": "markdown",
   "id": "364a4835",
   "metadata": {},
   "source": [
    "- EMPSTAT \n",
    "\n",
    "The employment status variable was categorized into three distinct groups:\n",
    "\n",
    "**Employed**: Individuals actively working.\n",
    "\n",
    "**Unemployed**: Individuals actively seeking work but not currently employed.\n",
    "\n",
    "**Not In Labor Force**: Individuals neither working nor actively seeking work.\n",
    "\n",
    "These categories were recoded to compare labor market engagement across groups."
   ]
  },
  {
   "cell_type": "markdown",
   "id": "309851bc-d47f-4241-8b37-b61bba252ddb",
   "metadata": {},
   "source": [
    "#### Data Cleaning Process\n",
    "\n",
    "The above two variables, 'CITIZEN' and 'EMPSTAT', where a value of 0 indicates that the information is not available (N/A). To ensure the quality of our analysis, we remove all rows where either 'CITIZEN' or 'EMPSTAT' is 0. This process results in a dataset that excludes all entries with missing or unavailable status for these key demographic indicators. The cleaned dataset is then saved for further analysis.\n"
   ]
  },
  {
   "cell_type": "code",
   "execution_count": 213,
   "id": "32f1f37a-fb95-4310-8077-f9945d8f9342",
   "metadata": {},
   "outputs": [],
   "source": [
    "# Drop rows where either CITIZEN or EMPSTAT has a value of 0\n",
    "cleaned_data = data[(data['CITIZEN'] != 0) & (data['EMPSTAT'] != 0)]\n"
   ]
  },
  {
   "cell_type": "markdown",
   "id": "bbae51ec",
   "metadata": {},
   "source": [
    "- SEX & Race\n",
    "\n",
    "The gender variable (SEX) was recoded into meaningful categories (**Male and Female**). The race variable (RACE) was grouped into broader categories representing **White, Black, Asian, and Other racial groups**. These transformations enable comparison across key demographic factors."
   ]
  },
  {
   "cell_type": "markdown",
   "id": "630d0874",
   "metadata": {},
   "source": [
    "- Sample Restriction\n",
    "\n",
    "The sample restriction applied for **age limits** the dataset to individuals within the **legally defined working age in the United States**. Specifically, only individuals aged 14 and above are included, as this is the minimum legal age for employment. Additionally, the dataset excludes individuals aged 66 and older, aligning with the typical legal retirement age. This restriction ensures that the analysis focuses on those who are eligible to participate in the workforce, providing a clearer view of employment patterns within the legally working-age population."
   ]
  },
  {
   "cell_type": "code",
   "execution_count": 135,
   "id": "2ce21418-3b0c-4c2c-a6ba-8a75f478f11b",
   "metadata": {},
   "outputs": [
    {
     "name": "stderr",
     "output_type": "stream",
     "text": [
      "/var/folders/f_/58mfr1kn3s9gx2l8_rz9ypg40000gn/T/ipykernel_35794/20861405.py:2: UserWarning: Boolean Series key will be reindexed to match DataFrame index.\n",
      "  working_age_data = cleaned_data[(cleaned_data['AGE'] >= 14) & (data['AGE'] < 66)]\n"
     ]
    }
   ],
   "source": [
    "# Subset the dataset for legally working age (14 <= AGE < 66)\n",
    "working_age_data = cleaned_data[(cleaned_data['AGE'] >= 14) & (data['AGE'] < 66)]"
   ]
  },
  {
   "cell_type": "markdown",
   "id": "eead6839",
   "metadata": {},
   "source": [
    "## Descriptive Statistics"
   ]
  },
  {
   "cell_type": "code",
   "execution_count": 136,
   "id": "9557c555",
   "metadata": {},
   "outputs": [
    {
     "name": "stdout",
     "output_type": "stream",
     "text": [
      "<class 'pandas.core.frame.DataFrame'>\n",
      "Index: 2123378 entries, 108 to 14286946\n",
      "Data columns (total 17 columns):\n",
      " #   Column    Dtype  \n",
      "---  ------    -----  \n",
      " 0   YEAR      int64  \n",
      " 1   SAMPLE    int64  \n",
      " 2   SERIAL    int64  \n",
      " 3   CBSERIAL  float64\n",
      " 4   HHWT      float64\n",
      " 5   CLUSTER   int64  \n",
      " 6   STRATA    int64  \n",
      " 7   GQ        int64  \n",
      " 8   PERNUM    int64  \n",
      " 9   PERWT     float64\n",
      " 10  SEX       int64  \n",
      " 11  AGE       int64  \n",
      " 12  RACE      int64  \n",
      " 13  RACED     int64  \n",
      " 14  CITIZEN   float64\n",
      " 15  EMPSTAT   int64  \n",
      " 16  EMPSTATD  int64  \n",
      "dtypes: float64(4), int64(13)\n",
      "memory usage: 291.6 MB\n"
     ]
    }
   ],
   "source": [
    "# Display information of the subset\n",
    "working_age_data.info()"
   ]
  },
  {
   "cell_type": "code",
   "execution_count": 4,
   "id": "3beba247",
   "metadata": {},
   "outputs": [
    {
     "data": {
      "text/html": [
       "<div>\n",
       "<style scoped>\n",
       "    .dataframe tbody tr th:only-of-type {\n",
       "        vertical-align: middle;\n",
       "    }\n",
       "\n",
       "    .dataframe tbody tr th {\n",
       "        vertical-align: top;\n",
       "    }\n",
       "\n",
       "    .dataframe thead th {\n",
       "        text-align: right;\n",
       "    }\n",
       "</style>\n",
       "<table border=\"1\" class=\"dataframe\">\n",
       "  <thead>\n",
       "    <tr style=\"text-align: right;\">\n",
       "      <th></th>\n",
       "      <th>YEAR</th>\n",
       "      <th>SAMPLE</th>\n",
       "      <th>SERIAL</th>\n",
       "      <th>CBSERIAL</th>\n",
       "      <th>HHWT</th>\n",
       "      <th>CLUSTER</th>\n",
       "      <th>STRATA</th>\n",
       "      <th>GQ</th>\n",
       "      <th>PERNUM</th>\n",
       "      <th>PERWT</th>\n",
       "      <th>SEX</th>\n",
       "      <th>AGE</th>\n",
       "      <th>RACE</th>\n",
       "      <th>RACED</th>\n",
       "      <th>CITIZEN</th>\n",
       "      <th>EMPSTAT</th>\n",
       "      <th>EMPSTATD</th>\n",
       "    </tr>\n",
       "  </thead>\n",
       "  <tbody>\n",
       "    <tr>\n",
       "      <th>count</th>\n",
       "      <td>9464440.00</td>\n",
       "      <td>9464440.00</td>\n",
       "      <td>9464440.00</td>\n",
       "      <td>1.734570e+06</td>\n",
       "      <td>9464440.00</td>\n",
       "      <td>9.464440e+06</td>\n",
       "      <td>9464440.00</td>\n",
       "      <td>9464440.00</td>\n",
       "      <td>9464440.00</td>\n",
       "      <td>9464440.00</td>\n",
       "      <td>9464440.00</td>\n",
       "      <td>9464440.00</td>\n",
       "      <td>9464440.00</td>\n",
       "      <td>9464440.00</td>\n",
       "      <td>8165756.00</td>\n",
       "      <td>9464440.00</td>\n",
       "      <td>9464440.00</td>\n",
       "    </tr>\n",
       "    <tr>\n",
       "      <th>mean</th>\n",
       "      <td>1990.38</td>\n",
       "      <td>199041.01</td>\n",
       "      <td>508685.37</td>\n",
       "      <td>2.020001e+12</td>\n",
       "      <td>103.52</td>\n",
       "      <td>1.990383e+12</td>\n",
       "      <td>85076.25</td>\n",
       "      <td>1.11</td>\n",
       "      <td>1.89</td>\n",
       "      <td>105.46</td>\n",
       "      <td>1.51</td>\n",
       "      <td>37.23</td>\n",
       "      <td>1.58</td>\n",
       "      <td>159.74</td>\n",
       "      <td>0.25</td>\n",
       "      <td>1.61</td>\n",
       "      <td>16.13</td>\n",
       "    </tr>\n",
       "    <tr>\n",
       "      <th>std</th>\n",
       "      <td>17.64</td>\n",
       "      <td>1763.60</td>\n",
       "      <td>317078.90</td>\n",
       "      <td>2.668020e+06</td>\n",
       "      <td>58.84</td>\n",
       "      <td>1.763918e+10</td>\n",
       "      <td>445996.80</td>\n",
       "      <td>0.53</td>\n",
       "      <td>1.15</td>\n",
       "      <td>62.45</td>\n",
       "      <td>0.50</td>\n",
       "      <td>14.82</td>\n",
       "      <td>1.60</td>\n",
       "      <td>163.62</td>\n",
       "      <td>0.77</td>\n",
       "      <td>0.95</td>\n",
       "      <td>9.45</td>\n",
       "    </tr>\n",
       "    <tr>\n",
       "      <th>min</th>\n",
       "      <td>1970.00</td>\n",
       "      <td>197003.00</td>\n",
       "      <td>1.00</td>\n",
       "      <td>2.020000e+12</td>\n",
       "      <td>0.00</td>\n",
       "      <td>1.970000e+12</td>\n",
       "      <td>4.00</td>\n",
       "      <td>1.00</td>\n",
       "      <td>1.00</td>\n",
       "      <td>0.00</td>\n",
       "      <td>1.00</td>\n",
       "      <td>14.00</td>\n",
       "      <td>1.00</td>\n",
       "      <td>100.00</td>\n",
       "      <td>0.00</td>\n",
       "      <td>0.00</td>\n",
       "      <td>0.00</td>\n",
       "    </tr>\n",
       "    <tr>\n",
       "      <th>25%</th>\n",
       "      <td>1970.00</td>\n",
       "      <td>197004.00</td>\n",
       "      <td>238819.00</td>\n",
       "      <td>2.020000e+12</td>\n",
       "      <td>90.00</td>\n",
       "      <td>1.970007e+12</td>\n",
       "      <td>45.00</td>\n",
       "      <td>1.00</td>\n",
       "      <td>1.00</td>\n",
       "      <td>91.00</td>\n",
       "      <td>1.00</td>\n",
       "      <td>24.00</td>\n",
       "      <td>1.00</td>\n",
       "      <td>100.00</td>\n",
       "      <td>0.00</td>\n",
       "      <td>1.00</td>\n",
       "      <td>10.00</td>\n",
       "    </tr>\n",
       "    <tr>\n",
       "      <th>50%</th>\n",
       "      <td>1990.00</td>\n",
       "      <td>199002.00</td>\n",
       "      <td>486065.50</td>\n",
       "      <td>2.020001e+12</td>\n",
       "      <td>100.00</td>\n",
       "      <td>1.990004e+12</td>\n",
       "      <td>60.00</td>\n",
       "      <td>1.00</td>\n",
       "      <td>2.00</td>\n",
       "      <td>100.00</td>\n",
       "      <td>2.00</td>\n",
       "      <td>36.00</td>\n",
       "      <td>1.00</td>\n",
       "      <td>100.00</td>\n",
       "      <td>0.00</td>\n",
       "      <td>1.00</td>\n",
       "      <td>10.00</td>\n",
       "    </tr>\n",
       "    <tr>\n",
       "      <th>75%</th>\n",
       "      <td>2000.00</td>\n",
       "      <td>200007.00</td>\n",
       "      <td>735558.00</td>\n",
       "      <td>2.020001e+12</td>\n",
       "      <td>103.00</td>\n",
       "      <td>2.000008e+12</td>\n",
       "      <td>76.00</td>\n",
       "      <td>1.00</td>\n",
       "      <td>2.00</td>\n",
       "      <td>105.00</td>\n",
       "      <td>2.00</td>\n",
       "      <td>50.00</td>\n",
       "      <td>1.00</td>\n",
       "      <td>100.00</td>\n",
       "      <td>0.00</td>\n",
       "      <td>3.00</td>\n",
       "      <td>30.00</td>\n",
       "    </tr>\n",
       "    <tr>\n",
       "      <th>max</th>\n",
       "      <td>2020.00</td>\n",
       "      <td>202001.00</td>\n",
       "      <td>1236881.00</td>\n",
       "      <td>2.020010e+12</td>\n",
       "      <td>3773.00</td>\n",
       "      <td>2.020012e+12</td>\n",
       "      <td>7030155.00</td>\n",
       "      <td>5.00</td>\n",
       "      <td>53.00</td>\n",
       "      <td>3773.00</td>\n",
       "      <td>2.00</td>\n",
       "      <td>65.00</td>\n",
       "      <td>9.00</td>\n",
       "      <td>990.00</td>\n",
       "      <td>3.00</td>\n",
       "      <td>3.00</td>\n",
       "      <td>30.00</td>\n",
       "    </tr>\n",
       "  </tbody>\n",
       "</table>\n",
       "</div>"
      ],
      "text/plain": [
       "             YEAR      SAMPLE      SERIAL      CBSERIAL        HHWT  \\\n",
       "count  9464440.00  9464440.00  9464440.00  1.734570e+06  9464440.00   \n",
       "mean      1990.38   199041.01   508685.37  2.020001e+12      103.52   \n",
       "std         17.64     1763.60   317078.90  2.668020e+06       58.84   \n",
       "min       1970.00   197003.00        1.00  2.020000e+12        0.00   \n",
       "25%       1970.00   197004.00   238819.00  2.020000e+12       90.00   \n",
       "50%       1990.00   199002.00   486065.50  2.020001e+12      100.00   \n",
       "75%       2000.00   200007.00   735558.00  2.020001e+12      103.00   \n",
       "max       2020.00   202001.00  1236881.00  2.020010e+12     3773.00   \n",
       "\n",
       "            CLUSTER      STRATA          GQ      PERNUM       PERWT  \\\n",
       "count  9.464440e+06  9464440.00  9464440.00  9464440.00  9464440.00   \n",
       "mean   1.990383e+12    85076.25        1.11        1.89      105.46   \n",
       "std    1.763918e+10   445996.80        0.53        1.15       62.45   \n",
       "min    1.970000e+12        4.00        1.00        1.00        0.00   \n",
       "25%    1.970007e+12       45.00        1.00        1.00       91.00   \n",
       "50%    1.990004e+12       60.00        1.00        2.00      100.00   \n",
       "75%    2.000008e+12       76.00        1.00        2.00      105.00   \n",
       "max    2.020012e+12  7030155.00        5.00       53.00     3773.00   \n",
       "\n",
       "              SEX         AGE        RACE       RACED     CITIZEN     EMPSTAT  \\\n",
       "count  9464440.00  9464440.00  9464440.00  9464440.00  8165756.00  9464440.00   \n",
       "mean         1.51       37.23        1.58      159.74        0.25        1.61   \n",
       "std          0.50       14.82        1.60      163.62        0.77        0.95   \n",
       "min          1.00       14.00        1.00      100.00        0.00        0.00   \n",
       "25%          1.00       24.00        1.00      100.00        0.00        1.00   \n",
       "50%          2.00       36.00        1.00      100.00        0.00        1.00   \n",
       "75%          2.00       50.00        1.00      100.00        0.00        3.00   \n",
       "max          2.00       65.00        9.00      990.00        3.00        3.00   \n",
       "\n",
       "         EMPSTATD  \n",
       "count  9464440.00  \n",
       "mean        16.13  \n",
       "std          9.45  \n",
       "min          0.00  \n",
       "25%         10.00  \n",
       "50%         10.00  \n",
       "75%         30.00  \n",
       "max         30.00  "
      ]
     },
     "execution_count": 4,
     "metadata": {},
     "output_type": "execute_result"
    }
   ],
   "source": [
    "working_age_data.describe().round(2)"
   ]
  },
  {
   "cell_type": "code",
   "execution_count": 139,
   "id": "3113306b",
   "metadata": {},
   "outputs": [
    {
     "data": {
      "text/html": [
       "<div>\n",
       "<style scoped>\n",
       "    .dataframe tbody tr th:only-of-type {\n",
       "        vertical-align: middle;\n",
       "    }\n",
       "\n",
       "    .dataframe tbody tr th {\n",
       "        vertical-align: top;\n",
       "    }\n",
       "\n",
       "    .dataframe thead th {\n",
       "        text-align: right;\n",
       "    }\n",
       "</style>\n",
       "<table border=\"1\" class=\"dataframe\">\n",
       "  <thead>\n",
       "    <tr style=\"text-align: right;\">\n",
       "      <th></th>\n",
       "      <th>SEX</th>\n",
       "      <th>AGE</th>\n",
       "      <th>RACE</th>\n",
       "      <th>CITIZEN</th>\n",
       "      <th>EMPSTAT</th>\n",
       "    </tr>\n",
       "  </thead>\n",
       "  <tbody>\n",
       "    <tr>\n",
       "      <th>count</th>\n",
       "      <td>2123378.00</td>\n",
       "      <td>2123378.00</td>\n",
       "      <td>2123378.00</td>\n",
       "      <td>824694.00</td>\n",
       "      <td>2123378.00</td>\n",
       "    </tr>\n",
       "    <tr>\n",
       "      <th>mean</th>\n",
       "      <td>1.51</td>\n",
       "      <td>37.42</td>\n",
       "      <td>2.09</td>\n",
       "      <td>2.45</td>\n",
       "      <td>1.74</td>\n",
       "    </tr>\n",
       "    <tr>\n",
       "      <th>std</th>\n",
       "      <td>0.50</td>\n",
       "      <td>14.56</td>\n",
       "      <td>2.11</td>\n",
       "      <td>0.61</td>\n",
       "      <td>0.95</td>\n",
       "    </tr>\n",
       "    <tr>\n",
       "      <th>min</th>\n",
       "      <td>1.00</td>\n",
       "      <td>14.00</td>\n",
       "      <td>1.00</td>\n",
       "      <td>1.00</td>\n",
       "      <td>1.00</td>\n",
       "    </tr>\n",
       "    <tr>\n",
       "      <th>25%</th>\n",
       "      <td>1.00</td>\n",
       "      <td>25.00</td>\n",
       "      <td>1.00</td>\n",
       "      <td>2.00</td>\n",
       "      <td>1.00</td>\n",
       "    </tr>\n",
       "    <tr>\n",
       "      <th>50%</th>\n",
       "      <td>2.00</td>\n",
       "      <td>37.00</td>\n",
       "      <td>1.00</td>\n",
       "      <td>3.00</td>\n",
       "      <td>1.00</td>\n",
       "    </tr>\n",
       "    <tr>\n",
       "      <th>75%</th>\n",
       "      <td>2.00</td>\n",
       "      <td>49.00</td>\n",
       "      <td>2.00</td>\n",
       "      <td>3.00</td>\n",
       "      <td>3.00</td>\n",
       "    </tr>\n",
       "    <tr>\n",
       "      <th>max</th>\n",
       "      <td>2.00</td>\n",
       "      <td>65.00</td>\n",
       "      <td>9.00</td>\n",
       "      <td>3.00</td>\n",
       "      <td>3.00</td>\n",
       "    </tr>\n",
       "  </tbody>\n",
       "</table>\n",
       "</div>"
      ],
      "text/plain": [
       "              SEX         AGE        RACE    CITIZEN     EMPSTAT\n",
       "count  2123378.00  2123378.00  2123378.00  824694.00  2123378.00\n",
       "mean         1.51       37.42        2.09       2.45        1.74\n",
       "std          0.50       14.56        2.11       0.61        0.95\n",
       "min          1.00       14.00        1.00       1.00        1.00\n",
       "25%          1.00       25.00        1.00       2.00        1.00\n",
       "50%          2.00       37.00        1.00       3.00        1.00\n",
       "75%          2.00       49.00        2.00       3.00        3.00\n",
       "max          2.00       65.00        9.00       3.00        3.00"
      ]
     },
     "execution_count": 139,
     "metadata": {},
     "output_type": "execute_result"
    }
   ],
   "source": [
    "working_age_data[['SEX', 'AGE','RACE','CITIZEN','EMPSTAT']].describe().round(2)"
   ]
  },
  {
   "cell_type": "code",
   "execution_count": 145,
   "id": "762ecbc7-b127-408e-808b-8485c51a081e",
   "metadata": {},
   "outputs": [],
   "source": [
    "# Create dummy variables for SEX\n",
    "working_age_data.loc[:, 'Female'] = (working_age_data['SEX'] == 2).astype(int)  # 1 if Female\n",
    "working_age_data.loc[:, 'Male'] = (working_age_data['SEX'] == 1).astype(int)    # 1 if Male"
   ]
  },
  {
   "cell_type": "code",
   "execution_count": 147,
   "id": "064bde4a-963e-4d68-b70d-b60199dec3ab",
   "metadata": {},
   "outputs": [],
   "source": [
    "# Create dummy variables for RACE\n",
    "working_age_data.loc[:, 'White'] = (working_age_data['RACE'] == 1).astype(int)  # 1 if White\n",
    "working_age_data.loc[:, 'Black'] = (working_age_data['RACE'] == 2).astype(int)  # 1 if Black/African American\n",
    "working_age_data.loc[:, 'Asian'] = (working_age_data['RACE'].isin([4, 5, 6])).astype(int)  # 1 if Asian\n",
    "working_age_data.loc[:, 'Other'] = (~working_age_data['RACE'].isin([1, 2, 4, 5, 6])).astype(int)  # 1 for Other races"
   ]
  },
  {
   "cell_type": "code",
   "execution_count": 217,
   "id": "d71d87f5-1678-4c81-9324-534ca0eeae5f",
   "metadata": {},
   "outputs": [],
   "source": [
    "# Create dummy variables for CITIZEN\n",
    "working_age_data.loc[:, 'Citizen'] = (working_age_data['CITIZEN'].isin([1, 2])).astype(int)  # 1 if citizen (born or naturalized)\n",
    "working_age_data.loc[:, 'NonCitizen'] = (working_age_data['CITIZEN'] == 3).astype(int)      # 1 if non-citizen\n"
   ]
  },
  {
   "cell_type": "code",
   "execution_count": 219,
   "id": "9719dbb5-c47e-4c3e-8917-1d0de6975478",
   "metadata": {},
   "outputs": [],
   "source": [
    "# Create dummy variables for EMPSTAT\n",
    "working_age_data.loc[:, 'Employed'] = (working_age_data['EMPSTAT'] == 1).astype(int)        # 1 if employed\n",
    "working_age_data.loc[:, 'Unemployed'] = (working_age_data['EMPSTAT'] == 2).astype(int)      # 1 if unemployed\n",
    "working_age_data.loc[:, 'NotInLaborForce'] = (working_age_data['EMPSTAT'] == 3).astype(int) # 1 if not in labor force"
   ]
  },
  {
   "cell_type": "code",
   "execution_count": 153,
   "id": "f6efa890-a105-4680-9271-e4feab31dbc4",
   "metadata": {},
   "outputs": [
    {
     "name": "stdout",
     "output_type": "stream",
     "text": [
      "\n",
      "### Sex Statistics ###\n",
      "           Female        Male\n",
      "count  2123378.00  2123378.00\n",
      "mean         0.51        0.49\n",
      "std          0.50        0.50\n",
      "min          0.00        0.00\n",
      "25%          0.00        0.00\n",
      "50%          1.00        0.00\n",
      "75%          1.00        1.00\n",
      "max          1.00        1.00\n",
      "\n",
      "### Race Statistics ###\n",
      "            White       Black       Asian       Other\n",
      "count  2123378.00  2123378.00  2123378.00  2123378.00\n",
      "mean         0.72        0.09        0.09        0.10\n",
      "std          0.45        0.28        0.29        0.29\n",
      "min          0.00        0.00        0.00        0.00\n",
      "25%          0.00        0.00        0.00        0.00\n",
      "50%          1.00        0.00        0.00        0.00\n",
      "75%          1.00        0.00        0.00        0.00\n",
      "max          1.00        1.00        1.00        1.00\n",
      "\n",
      "### Employment Status Statistics ###\n",
      "         Employed  Unemployed  NotInLaborForce\n",
      "count  2123378.00  2123378.00       2123378.00\n",
      "mean         0.61        0.03             0.35\n",
      "std          0.49        0.18             0.48\n",
      "min          0.00        0.00             0.00\n",
      "25%          0.00        0.00             0.00\n",
      "50%          1.00        0.00             0.00\n",
      "75%          1.00        0.00             1.00\n",
      "max          1.00        1.00             1.00\n",
      "\n",
      "### Citizenship Statistics ###\n",
      "          Citizen  NonCitizen\n",
      "count  2123378.00   2123378.0\n",
      "mean         0.19         0.2\n",
      "std          0.39         0.4\n",
      "min          0.00         0.0\n",
      "25%          0.00         0.0\n",
      "50%          0.00         0.0\n",
      "75%          0.00         0.0\n",
      "max          1.00         1.0\n"
     ]
    }
   ],
   "source": [
    "# Compute descriptive statistics for the selected dummy and other important columns\n",
    "# Separate the statistics for clarity\n",
    "sex_columns = ['Female', 'Male']\n",
    "race_columns = ['White', 'Black', 'Asian', 'Other']\n",
    "empstat_columns = ['Employed', 'Unemployed', 'NotInLaborForce']\n",
    "citizenship_columns = ['Citizen', 'NonCitizen']\n",
    "\n",
    "# Generate descriptive statistics for each group\n",
    "sex_statistics = working_age_data[sex_columns].describe().round(2)\n",
    "race_statistics = working_age_data[race_columns].describe().round(2)\n",
    "empstat_statistics = working_age_data[empstat_columns].describe().round(2)\n",
    "citizenship_statistics = working_age_data[citizenship_columns].describe().round(2)\n",
    "\n",
    "# Print the statistics for each group\n",
    "print(\"\\n### Sex Statistics ###\")\n",
    "print(sex_statistics)\n",
    "\n",
    "print(\"\\n### Race Statistics ###\")\n",
    "print(race_statistics)\n",
    "\n",
    "print(\"\\n### Employment Status Statistics ###\")\n",
    "print(empstat_statistics)\n",
    "\n",
    "print(\"\\n### Citizenship Statistics ###\")\n",
    "print(citizenship_statistics)\n"
   ]
  },
  {
   "cell_type": "markdown",
   "id": "5e0ec2a7-8ff6-42c1-a88b-394f36b47e5e",
   "metadata": {},
   "source": [
    "The computed mean for dummy variables (e.g., Female, Black, Asian, Citizen, Employed) represents the proportion of individuals within each respective group in the sample. For binary dummy variables (coded as 0 or 1), a mean value close to 0 indicates few members in that group, while a mean value close to 1 indicates that the majority of the sample belongs to that group."
   ]
  },
  {
   "cell_type": "markdown",
   "id": "c287d88f",
   "metadata": {},
   "source": [
    "## Plots"
   ]
  },
  {
   "cell_type": "code",
   "execution_count": 75,
   "id": "c8de679b-bd4f-4821-abe1-72cb73f29d00",
   "metadata": {},
   "outputs": [],
   "source": [
    "# Import packages for plot\n",
    "import matplotlib.pyplot as plt"
   ]
  },
  {
   "cell_type": "markdown",
   "id": "d09e743c-36d0-4c34-b244-2c70b6244cb3",
   "metadata": {},
   "source": [
    "#### Plot1: Bar Plot - Comparing Employment for Citizens vs Non-Citizens"
   ]
  },
  {
   "cell_type": "code",
   "execution_count": 223,
   "id": "b3161697-e284-4a68-9392-2e49014b6eb2",
   "metadata": {},
   "outputs": [
    {
     "data": {
      "image/png": "[encoded data removed]",
      "text/plain": [
       "<Figure size 800x600 with 1 Axes>"
      ]
     },
     "metadata": {},
     "output_type": "display_data"
    }
   ],
   "source": [
    "# Compute the proportion of employed individuals by citizenship status\n",
    "employment_summary = working_age_data.groupby('Citizen')['Employed'].mean().reset_index()\n",
    "employment_summary.columns = ['Citizen_Status', 'Proportion_Employed']\n",
    "\n",
    "# Map the coded integers to human-readable labels\n",
    "employment_summary['Citizen_Status_Label'] = employment_summary['Citizen_Status'].map({1: 'Citizen', 0: 'Non-Citizen'})\n",
    "\n",
    "# Create color mapping for the groups\n",
    "colors = {'Citizen': 'blue', 'Non-Citizen': 'orange'}\n",
    "\n",
    "# Plot with manually assigned colors\n",
    "plt.figure(figsize=(8, 6))\n",
    "bars = plt.bar(\n",
    "    employment_summary['Citizen_Status_Label'],\n",
    "    employment_summary['Proportion_Employed'],\n",
    "    color=[colors[label] for label in employment_summary['Citizen_Status_Label']]\n",
    ")\n",
    "\n",
    "# Add custom legend\n",
    "plt.legend(bars, ['Non-Citizen', 'Citizen'], loc='upper right')\n",
    "\n",
    "# Add title, axis labels, and show the plot\n",
    "plt.title('Proportion of Employed Individuals by Citizenship Status')\n",
    "plt.ylabel('Proportion Employed')\n",
    "plt.xlabel('Citizen Status')\n",
    "plt.show()\n"
   ]
  },
  {
   "cell_type": "markdown",
   "id": "09124263-99f8-415e-a72d-2f46ece4c81d",
   "metadata": {},
   "source": [
    "#### Plot2: Stacked Bar Chart - Employment Breakdown by Citizenship"
   ]
  },
  {
   "cell_type": "code",
   "execution_count": 227,
   "id": "7c26fbc1-b7fd-49fa-afac-5c5a3625e248",
   "metadata": {},
   "outputs": [
    {
     "data": {
      "image/png": "[encoded data removed]",
      "text/plain": [
       "<Figure size 640x480 with 1 Axes>"
      ]
     },
     "metadata": {},
     "output_type": "display_data"
    }
   ],
   "source": [
    "import matplotlib.pyplot as plt\n",
    "\n",
    "# Group by 'Citizenship' and calculate mean values for employment status\n",
    "grouped_data = working_age_data.groupby('Citizenship')[['Employed', 'Unemployed', 'NotInLaborForce']].mean()\n",
    "\n",
    "# Plotting the stacked barplot with the updated original data\n",
    "grouped_data.plot(kind='bar', stacked=True, color=['seagreen', 'red', 'blueviolet'])\n",
    "plt.xlabel('Citizenship Status')\n",
    "plt.ylabel('Proportion of Employment Status')\n",
    "plt.title('Employment Breakdown by Citizenship')\n",
    "plt.legend(title='Employment Status')\n",
    "plt.xticks(rotation=0)  # Ensures x-axis labels are horizontal for better readability\n",
    "plt.show()\n"
   ]
  },
  {
   "cell_type": "code",
   "execution_count": 169,
   "id": "15bab772-02a6-4fb2-9c46-44b230351f93",
   "metadata": {},
   "outputs": [
    {
     "name": "stdout",
     "output_type": "stream",
     "text": [
      "108         3.0\n",
      "150         3.0\n",
      "159         2.0\n",
      "179         2.0\n",
      "201         2.0\n",
      "           ... \n",
      "14286782    2.0\n",
      "14286919    2.0\n",
      "14286944    2.0\n",
      "14286945    2.0\n",
      "14286946    2.0\n",
      "Name: CITIZEN, Length: 2123378, dtype: float64\n"
     ]
    }
   ],
   "source": [
    "print(working_age_data['CITIZEN'])"
   ]
  },
  {
   "cell_type": "markdown",
   "id": "9d687c65-3918-4179-9baf-2557f5b0a81e",
   "metadata": {},
   "source": [
    "#### Plot3: Pivot Table - Employment Proportions by Citizenship, Gender, and Race"
   ]
  },
  {
   "cell_type": "code",
   "execution_count": 111,
   "id": "a742aa4e-990c-45b0-a46d-55fe014944a6",
   "metadata": {},
   "outputs": [
    {
     "name": "stdout",
     "output_type": "stream",
     "text": [
      "Employment_Status_Label          Employed  Not In Labor Force  Unemployed  \\\n",
      "Citizen Gender_Label Race_Label                                             \n",
      "0       Female       Asian       0.548789            0.395840    0.055371   \n",
      "                     Black       0.599446            0.337190    0.063364   \n",
      "                     Other       0.577466            0.379191    0.043343   \n",
      "                     White       0.659158            0.307214    0.033628   \n",
      "        Male         Asian       0.545994            0.381320    0.072686   \n",
      "                     Black       0.463957            0.474367    0.061676   \n",
      "                     Other       0.649873            0.309620    0.040506   \n",
      "                     White       0.715118            0.245270    0.039612   \n",
      "1       Female       Asian       0.656581            0.287443    0.055976   \n",
      "                     Black       0.748941            0.207595    0.043465   \n",
      "                     Other       0.689119            0.273697    0.037184   \n",
      "                     White       0.670450            0.292499    0.037051   \n",
      "        Male         Asian       0.770349            0.168605    0.061047   \n",
      "                     Black       0.751997            0.192081    0.055922   \n",
      "                     Other       0.789794            0.168207    0.041999   \n",
      "                     White       0.786907            0.170454    0.042639   \n",
      "\n",
      "Employment_Status_Label          Total  \n",
      "Citizen Gender_Label Race_Label         \n",
      "0       Female       Asian         1.0  \n",
      "                     Black         1.0  \n",
      "                     Other         1.0  \n",
      "                     White         1.0  \n",
      "        Male         Asian         1.0  \n",
      "                     Black         1.0  \n",
      "                     Other         1.0  \n",
      "                     White         1.0  \n",
      "1       Female       Asian         1.0  \n",
      "                     Black         1.0  \n",
      "                     Other         1.0  \n",
      "                     White         1.0  \n",
      "        Male         Asian         1.0  \n",
      "                     Black         1.0  \n",
      "                     Other         1.0  \n",
      "                     White         1.0  \n"
     ]
    }
   ],
   "source": [
    "# Map gender and race to meaningful labels\n",
    "working_age_data['Gender_Label'] = working_age_data['SEX'].map({1: 'Male', 2: 'Female'})\n",
    "working_age_data['Race_Label'] = working_age_data['RACE'].map({\n",
    "    1: 'White',\n",
    "    2: 'Black',\n",
    "    3: 'Asian',\n",
    "    4: 'Other'\n",
    "})\n",
    "\n",
    "# Group by Citizen, Gender, Race, and Employment Status\n",
    "employment_counts = working_age_data.groupby(['Citizen', 'Gender_Label', 'Race_Label', 'EMPSTAT']).size().reset_index(name='count')\n",
    "\n",
    "# Map Employment Status codes to human-readable labels\n",
    "employment_counts['Employment_Status_Label'] = employment_counts['EMPSTAT'].map({\n",
    "    1: 'Employed',\n",
    "    2: 'Unemployed',\n",
    "    3: 'Not In Labor Force'\n",
    "})\n",
    "\n",
    "# Create pivot table with multi-index for visualization\n",
    "pivot_table = employment_counts.pivot_table(\n",
    "    index=['Citizen', 'Gender_Label', 'Race_Label'],\n",
    "    columns='Employment_Status_Label',\n",
    "    values='count',\n",
    "    aggfunc='sum',\n",
    "    fill_value=0\n",
    ")\n",
    "\n",
    "# Normalize the pivot table to proportions for comparison\n",
    "pivot_table_percentage = pivot_table.div(pivot_table.sum(axis=1), axis=0)\n",
    "\n",
    "# Add a \"Total\" column (sum of all employment statuses for each row)\n",
    "pivot_table_percentage['Total'] = pivot_table_percentage.sum(axis=1)\n",
    "\n",
    "# Display the modified pivot table with the \"Total\" column\n",
    "print(pivot_table_percentage)\n"
   ]
  },
  {
   "cell_type": "markdown",
   "id": "9884fed0",
   "metadata": {},
   "source": [
    "## References"
   ]
  },
  {
   "cell_type": "markdown",
   "id": "8828381a",
   "metadata": {},
   "source": [
    "Camarota, Steven A. \"Most Employment Growth Since Pandemic Has Gone to Immigrants.\" Center for Immigration Studies, 10 June 2024, cis.org/Camarota/Most-Employment-Growth-Pandemic-Has-Gone-Immigrants.\n",
    "\n",
    "Kim, D. ., & Kim, S. (2022). Where Are You From? Career Experiences of Non-US PhD Holders in the United States. International Higher Education, (111), 23–24. Retrieved from https://ejournals.bc.edu/index.php/ihe/article/view/15337\n",
    "\n",
    "\n",
    "Bagheri, O. Are College Graduate Immigrants on Work Visa Cheaper Than Natives?. J Labor Res 44, 228–260 (2023). https://doi.org/10.1007/s12122-023-09349-2\n",
    "\n",
    "Quintini, G. (2011), \"Right for the Job: Over-Qualified or Under-Skilled?\", OECD Social, Employment and Migration Working Papers, No. 120, OECD Publishing, Paris, https://doi.org/10.1787/5kg59fcz3tkd-en.\n",
    "\n",
    "https://www.oecd-ilibrary.org/social-issues-migration-health/right-for-the-job_5kg59fcz3tkd-en\n",
    "\n",
    "Kerwin, D., & Warren, R. (2019). Putting Americans First: A Statistical Case for Encouraging Rather than Impeding and Devaluing US Citizenship. Journal on Migration and Human Security, 7(4), 108-122. https://doi.org/10.1177/2331502419894286\n",
    "\n",
    "Chellaraj, G., Maskus, K.E. and Mattoo, A. (2008), The Contribution of International Graduate Students to US Innovation. Review of International Economics, 16: 444-462. https://doi.org/10.1111/j.1467-9396.2007.00714.x\n",
    "\n",
    "Orrenius, P., Zavodny, M. (2014). Immigrants in the US Labor Market. In: Payan, T., de la Garza, E. (eds) Undecided Nation. Immigrants and Minorities, Politics and Policy, vol 6. Springer, Cham. https://doi.org/10.1007/978-3-319-06480-2_9\n",
    "\n",
    "Martin, Philip L. \"Migration and US Economic Competitiveness.\" Transnational Press London, Transnational Press, 2013. Labor Relations, Migration Studies, Ethnic Minorities Studies, Socio-Economic Research.https://www.ceeol.com/search/article-detail?id=480188\n",
    "\n",
    "Bound J, Braga B, Khanna G, Turner S. The globalization of postsecondary education: The role of international students in the US higher education system. J Econ Perspect. 2021 Winter;35(1):163-184. doi: 10.1257/jep.35.1.163. PMID: 37786787; PMCID: PMC10544708."
   ]
  },
  {
   "cell_type": "code",
   "execution_count": null,
   "id": "fb22f019",
   "metadata": {},
   "outputs": [],
   "source": []
  }
 ],
 "metadata": {
  "kernelspec": {
   "display_name": "Python [conda env:base] *",
   "language": "python",
   "name": "conda-base-py"
  },
  "language_info": {
   "codemirror_mode": {
    "name": "ipython",
    "version": 3
   },
   "file_extension": ".py",
   "mimetype": "text/x-python",
   "name": "python",
   "nbconvert_exporter": "python",
   "pygments_lexer": "ipython3",
   "version": "3.12.7"
  }
 },
 "nbformat": 4,
 "nbformat_minor": 5
}
